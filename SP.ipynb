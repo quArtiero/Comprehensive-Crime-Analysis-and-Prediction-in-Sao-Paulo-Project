{
  "cells": [
    {
      "cell_type": "markdown",
      "metadata": {},
      "source": [
        "# Comprehensive Crime Analysis and Prediction in São Paulo\n",
        "\n",
        "## Introduction\n",
        "The project aims to analyze crime data in São Paulo, identify trends and patterns, and develop predictive models to forecast future crime occurrences. The project will also explore the socio-economic factors influencing crime rates and provide actionable insights for policymakers."
      ]
    },
    {
      "cell_type": "markdown",
      "metadata": {},
      "source": [
        "## Data Collection and Preprocessing"
      ]
    },
    {
      "cell_type": "markdown",
      "metadata": {},
      "source": [
        "### 1. Handle Missing Values and Inconsistencies"
      ]
    },
    {
      "cell_type": "code",
      "execution_count": null,
      "metadata": {},
      "outputs": [
        {
          "data": {
            "text/html": [
              "<div>\n",
              "<style scoped>\n",
              "    .dataframe tbody tr th:only-of-type {\n",
              "        vertical-align: middle;\n",
              "    }\n",
              "\n",
              "    .dataframe tbody tr th {\n",
              "        vertical-align: top;\n",
              "    }\n",
              "\n",
              "    .dataframe thead th {\n",
              "        text-align: right;\n",
              "    }\n",
              "</style>\n",
              "<table border=\"1\" class=\"dataframe\">\n",
              "  <thead>\n",
              "    <tr style=\"text-align: right;\">\n",
              "      <th></th>\n",
              "      <th>id</th>\n",
              "      <th>bairro</th>\n",
              "      <th>created_at</th>\n",
              "      <th>descricao</th>\n",
              "      <th>endereco</th>\n",
              "      <th>id.1</th>\n",
              "      <th>ip_address_origin</th>\n",
              "      <th>latitude</th>\n",
              "      <th>longitude</th>\n",
              "      <th>registrou_bo</th>\n",
              "      <th>...</th>\n",
              "      <th>Estepe</th>\n",
              "      <th>MP4 ou Ipod</th>\n",
              "      <th>Móveis</th>\n",
              "      <th>Notebook</th>\n",
              "      <th>Outros</th>\n",
              "      <th>Relógio</th>\n",
              "      <th>Som</th>\n",
              "      <th>Tablet</th>\n",
              "      <th>Tv</th>\n",
              "      <th>time</th>\n",
              "    </tr>\n",
              "  </thead>\n",
              "  <tbody>\n",
              "    <tr>\n",
              "      <th>0</th>\n",
              "      <td>49787</td>\n",
              "      <td>Butantã</td>\n",
              "      <td>2015-06-16 23:34:01.000</td>\n",
              "      <td>5 bandidos, armas, entraram em casa e vasculha...</td>\n",
              "      <td>Avenida Trona Constanzo, 177, Butantã</td>\n",
              "      <td>49787</td>\n",
              "      <td>NaN</td>\n",
              "      <td>-23.580973</td>\n",
              "      <td>-46.719192</td>\n",
              "      <td>True</td>\n",
              "      <td>...</td>\n",
              "      <td>NaN</td>\n",
              "      <td>True</td>\n",
              "      <td>NaN</td>\n",
              "      <td>True</td>\n",
              "      <td>NaN</td>\n",
              "      <td>NaN</td>\n",
              "      <td>True</td>\n",
              "      <td>True</td>\n",
              "      <td>True</td>\n",
              "      <td>2010-12-20 20:30:00.000</td>\n",
              "    </tr>\n",
              "    <tr>\n",
              "      <th>1</th>\n",
              "      <td>10679</td>\n",
              "      <td>Itaquera</td>\n",
              "      <td>2013-09-11 18:26:31.819</td>\n",
              "      <td>Meu caso foi para o Pequenas Causas, ganhamos ...</td>\n",
              "      <td>Avenida José Pinheiro Borges, 450-876 - Itaque...</td>\n",
              "      <td>10679</td>\n",
              "      <td>187.11.1.51</td>\n",
              "      <td>-23.540105</td>\n",
              "      <td>-46.462872</td>\n",
              "      <td>True</td>\n",
              "      <td>...</td>\n",
              "      <td>NaN</td>\n",
              "      <td>NaN</td>\n",
              "      <td>NaN</td>\n",
              "      <td>NaN</td>\n",
              "      <td>True</td>\n",
              "      <td>NaN</td>\n",
              "      <td>NaN</td>\n",
              "      <td>NaN</td>\n",
              "      <td>NaN</td>\n",
              "      <td>2012-01-11 14:00:00.000</td>\n",
              "    </tr>\n",
              "    <tr>\n",
              "      <th>2</th>\n",
              "      <td>10682</td>\n",
              "      <td>Itaquera</td>\n",
              "      <td>2013-09-11 18:42:07.858</td>\n",
              "      <td>Meu caso foi para o Pequenas Causas, ganhamos ...</td>\n",
              "      <td>Rua Corínthians - Itaquera - Shopping Metrô It...</td>\n",
              "      <td>10682</td>\n",
              "      <td>189.19.160.82</td>\n",
              "      <td>-23.541765</td>\n",
              "      <td>-46.469562</td>\n",
              "      <td>True</td>\n",
              "      <td>...</td>\n",
              "      <td>NaN</td>\n",
              "      <td>NaN</td>\n",
              "      <td>NaN</td>\n",
              "      <td>NaN</td>\n",
              "      <td>True</td>\n",
              "      <td>NaN</td>\n",
              "      <td>NaN</td>\n",
              "      <td>NaN</td>\n",
              "      <td>NaN</td>\n",
              "      <td>2012-01-11 14:00:00.000</td>\n",
              "    </tr>\n",
              "    <tr>\n",
              "      <th>3</th>\n",
              "      <td>6166</td>\n",
              "      <td>Morumbi</td>\n",
              "      <td>2013-08-20 11:56:52.717</td>\n",
              "      <td>Estava parada no semáforo, o bandido veio e es...</td>\n",
              "      <td>Rua Pasquale Gallupi, 347 - Morumbi, São Paulo...</td>\n",
              "      <td>6166</td>\n",
              "      <td>199.67.140.46</td>\n",
              "      <td>-23.611693</td>\n",
              "      <td>-46.725935</td>\n",
              "      <td>True</td>\n",
              "      <td>...</td>\n",
              "      <td>NaN</td>\n",
              "      <td>NaN</td>\n",
              "      <td>NaN</td>\n",
              "      <td>NaN</td>\n",
              "      <td>NaN</td>\n",
              "      <td>NaN</td>\n",
              "      <td>NaN</td>\n",
              "      <td>NaN</td>\n",
              "      <td>NaN</td>\n",
              "      <td>2012-01-11 18:20:00.000</td>\n",
              "    </tr>\n",
              "    <tr>\n",
              "      <th>4</th>\n",
              "      <td>6521</td>\n",
              "      <td>Alto de Pinheiros</td>\n",
              "      <td>2013-08-20 17:41:21.569</td>\n",
              "      <td>Arrombaram o porta malas do meu carro e levara...</td>\n",
              "      <td>Avenida Professor Fonseca Rodrigues, 1655 - Al...</td>\n",
              "      <td>6521</td>\n",
              "      <td>187.92.158.154</td>\n",
              "      <td>-23.544564</td>\n",
              "      <td>-46.721567</td>\n",
              "      <td>True</td>\n",
              "      <td>...</td>\n",
              "      <td>NaN</td>\n",
              "      <td>NaN</td>\n",
              "      <td>NaN</td>\n",
              "      <td>True</td>\n",
              "      <td>True</td>\n",
              "      <td>NaN</td>\n",
              "      <td>NaN</td>\n",
              "      <td>NaN</td>\n",
              "      <td>NaN</td>\n",
              "      <td>2012-01-11 08:15:00.000</td>\n",
              "    </tr>\n",
              "  </tbody>\n",
              "</table>\n",
              "<p>5 rows × 36 columns</p>\n",
              "</div>"
            ],
            "text/plain": [
              "      id             bairro               created_at  \\\n",
              "0  49787            Butantã  2015-06-16 23:34:01.000   \n",
              "1  10679           Itaquera  2013-09-11 18:26:31.819   \n",
              "2  10682           Itaquera  2013-09-11 18:42:07.858   \n",
              "3   6166            Morumbi  2013-08-20 11:56:52.717   \n",
              "4   6521  Alto de Pinheiros  2013-08-20 17:41:21.569   \n",
              "\n",
              "                                           descricao  \\\n",
              "0  5 bandidos, armas, entraram em casa e vasculha...   \n",
              "1  Meu caso foi para o Pequenas Causas, ganhamos ...   \n",
              "2  Meu caso foi para o Pequenas Causas, ganhamos ...   \n",
              "3  Estava parada no semáforo, o bandido veio e es...   \n",
              "4  Arrombaram o porta malas do meu carro e levara...   \n",
              "\n",
              "                                            endereco   id.1 ip_address_origin  \\\n",
              "0              Avenida Trona Constanzo, 177, Butantã  49787               NaN   \n",
              "1  Avenida José Pinheiro Borges, 450-876 - Itaque...  10679       187.11.1.51   \n",
              "2  Rua Corínthians - Itaquera - Shopping Metrô It...  10682     189.19.160.82   \n",
              "3  Rua Pasquale Gallupi, 347 - Morumbi, São Paulo...   6166     199.67.140.46   \n",
              "4  Avenida Professor Fonseca Rodrigues, 1655 - Al...   6521    187.92.158.154   \n",
              "\n",
              "    latitude  longitude registrou_bo  ...  Estepe  MP4 ou Ipod Móveis  \\\n",
              "0 -23.580973 -46.719192         True  ...     NaN         True    NaN   \n",
              "1 -23.540105 -46.462872         True  ...     NaN          NaN    NaN   \n",
              "2 -23.541765 -46.469562         True  ...     NaN          NaN    NaN   \n",
              "3 -23.611693 -46.725935         True  ...     NaN          NaN    NaN   \n",
              "4 -23.544564 -46.721567         True  ...     NaN          NaN    NaN   \n",
              "\n",
              "  Notebook  Outros  Relógio   Som Tablet    Tv                     time  \n",
              "0     True     NaN      NaN  True   True  True  2010-12-20 20:30:00.000  \n",
              "1      NaN    True      NaN   NaN    NaN   NaN  2012-01-11 14:00:00.000  \n",
              "2      NaN    True      NaN   NaN    NaN   NaN  2012-01-11 14:00:00.000  \n",
              "3      NaN     NaN      NaN   NaN    NaN   NaN  2012-01-11 18:20:00.000  \n",
              "4     True    True      NaN   NaN    NaN   NaN  2012-01-11 08:15:00.000  \n",
              "\n",
              "[5 rows x 36 columns]"
            ]
          },
          "execution_count": 1,
          "metadata": {},
          "output_type": "execute_result"
        }
      ],
      "source": [
        "import pandas as pd\n",
        "\n",
        "# Load the dataset\n",
        "data = pd.read_csv('dataset-limpo.csv')\n",
        "\n",
        "data.head(5)"
      ]
    },
    {
      "cell_type": "code",
      "execution_count": null,
      "metadata": {},
      "outputs": [
        {
          "data": {
            "text/plain": [
              "id                        0\n",
              "bairro                 1703\n",
              "created_at                0\n",
              "descricao                 1\n",
              "endereco                  0\n",
              "id.1                      0\n",
              "ip_address_origin      1194\n",
              "latitude                  0\n",
              "longitude                 0\n",
              "registrou_bo            524\n",
              "sexo                      0\n",
              "tipo_assalto_id           0\n",
              "titulo                    0\n",
              "uri                       0\n",
              "user_id               11733\n",
              "valor_prejuizo            0\n",
              "Bicicleta             12643\n",
              "Bolsa ou Mochila       9268\n",
              "Carteira               8656\n",
              "Cartão de Crédito     10123\n",
              "Celular                4522\n",
              "Computador            12787\n",
              "DVD                   12805\n",
              "Dinheiro              11169\n",
              "Documentos             9239\n",
              "Equipamento de Som    12660\n",
              "Estepe                12575\n",
              "MP4 ou Ipod           12347\n",
              "Móveis                12854\n",
              "Notebook              12135\n",
              "Outros                 7656\n",
              "Relógio               11549\n",
              "Som                   12793\n",
              "Tablet                12456\n",
              "Tv                    12721\n",
              "time                      0\n",
              "dtype: int64"
            ]
          },
          "execution_count": 2,
          "metadata": {},
          "output_type": "execute_result"
        }
      ],
      "source": [
        "\n",
        "# Checking for missing values\n",
        "missing_values = data.isnull().sum()\n",
        "missing_values"
      ]
    },
    {
      "cell_type": "markdown",
      "metadata": {},
      "source": [
        "### 2. Data Cleaning"
      ]
    },
    {
      "cell_type": "code",
      "execution_count": null,
      "metadata": {},
      "outputs": [
        {
          "name": "stderr",
          "output_type": "stream",
          "text": [
            "/var/folders/my/ryxwfdh143q7d_5vrvr5cktw0000gn/T/ipykernel_40345/2980113560.py:5: FutureWarning: A value is trying to be set on a copy of a DataFrame or Series through chained assignment using an inplace method.\n",
            "The behavior will change in pandas 3.0. This inplace method will never work because the intermediate object on which we are setting values always behaves as a copy.\n",
            "\n",
            "For example, when doing 'df[col].method(value, inplace=True)', try using 'df.method({col: value}, inplace=True)' or df[col] = df[col].method(value) instead, to perform the operation inplace on the original object.\n",
            "\n",
            "\n",
            "  data_cleaned['ip_address_origin'].fillna('unknown', inplace=True)\n",
            "/var/folders/my/ryxwfdh143q7d_5vrvr5cktw0000gn/T/ipykernel_40345/2980113560.py:5: SettingWithCopyWarning: \n",
            "A value is trying to be set on a copy of a slice from a DataFrame\n",
            "\n",
            "See the caveats in the documentation: https://pandas.pydata.org/pandas-docs/stable/user_guide/indexing.html#returning-a-view-versus-a-copy\n",
            "  data_cleaned['ip_address_origin'].fillna('unknown', inplace=True)\n"
          ]
        },
        {
          "data": {
            "text/plain": [
              "id                        0\n",
              "bairro                    0\n",
              "created_at                0\n",
              "descricao                 0\n",
              "endereco                  0\n",
              "id.1                      0\n",
              "ip_address_origin         0\n",
              "latitude                  0\n",
              "longitude                 0\n",
              "registrou_bo              0\n",
              "sexo                      0\n",
              "tipo_assalto_id           0\n",
              "titulo                    0\n",
              "uri                       0\n",
              "user_id                9665\n",
              "valor_prejuizo            0\n",
              "Bicicleta             10481\n",
              "Bolsa ou Mochila       7635\n",
              "Carteira               7073\n",
              "Cartão de Crédito      8313\n",
              "Celular                3656\n",
              "Computador            10586\n",
              "DVD                   10594\n",
              "Dinheiro               9461\n",
              "Documentos             7571\n",
              "Equipamento de Som    10454\n",
              "Estepe                10400\n",
              "MP4 ou Ipod           10198\n",
              "Móveis                10634\n",
              "Notebook              10019\n",
              "Outros                 6349\n",
              "Relógio                9541\n",
              "Som                   10582\n",
              "Tablet                10289\n",
              "Tv                    10529\n",
              "time                      0\n",
              "dtype: int64"
            ]
          },
          "execution_count": 3,
          "metadata": {},
          "output_type": "execute_result"
        }
      ],
      "source": [
        "# Dropping rows with missing values in critical columns\n",
        "data_cleaned = data.dropna(subset=['bairro', 'descricao', 'registrou_bo'])\n",
        "\n",
        "# Filling missing values in 'ip_address_origin' with a placeholder\n",
        "data_cleaned['ip_address_origin'].fillna('unknown', inplace=True)\n",
        "\n",
        "# Verify the changes\n",
        "missing_values_cleaned = data_cleaned.isnull().sum()\n",
        "missing_values_cleaned"
      ]
    },
    {
      "cell_type": "markdown",
      "metadata": {},
      "source": [
        "### 3. Standardize Timestamps and Address Formats"
      ]
    },
    {
      "cell_type": "code",
      "execution_count": null,
      "metadata": {},
      "outputs": [
        {
          "name": "stderr",
          "output_type": "stream",
          "text": [
            "/var/folders/my/ryxwfdh143q7d_5vrvr5cktw0000gn/T/ipykernel_40345/1662434073.py:2: SettingWithCopyWarning: \n",
            "A value is trying to be set on a copy of a slice from a DataFrame.\n",
            "Try using .loc[row_indexer,col_indexer] = value instead\n",
            "\n",
            "See the caveats in the documentation: https://pandas.pydata.org/pandas-docs/stable/user_guide/indexing.html#returning-a-view-versus-a-copy\n",
            "  data_cleaned['created_at'] = pd.to_datetime(data_cleaned['created_at'])\n",
            "/var/folders/my/ryxwfdh143q7d_5vrvr5cktw0000gn/T/ipykernel_40345/1662434073.py:3: SettingWithCopyWarning: \n",
            "A value is trying to be set on a copy of a slice from a DataFrame.\n",
            "Try using .loc[row_indexer,col_indexer] = value instead\n",
            "\n",
            "See the caveats in the documentation: https://pandas.pydata.org/pandas-docs/stable/user_guide/indexing.html#returning-a-view-versus-a-copy\n",
            "  data_cleaned['time'] = pd.to_datetime(data_cleaned['time'])\n"
          ]
        },
        {
          "data": {
            "text/plain": [
              "np.int64(0)"
            ]
          },
          "execution_count": 4,
          "metadata": {},
          "output_type": "execute_result"
        }
      ],
      "source": [
        "# Standardizing the timestamps\n",
        "data_cleaned['created_at'] = pd.to_datetime(data_cleaned['created_at'])\n",
        "data_cleaned['time'] = pd.to_datetime(data_cleaned['time'])\n",
        "\n",
        "# Removing duplicates\n",
        "data_cleaned = data_cleaned.drop_duplicates()\n",
        "\n",
        "# Verify the changes\n",
        "data_cleaned.duplicated().sum()"
      ]
    },
    {
      "cell_type": "markdown",
      "metadata": {},
      "source": [
        "## Exploratory Data Analysis (EDA)"
      ]
    },
    {
      "cell_type": "markdown",
      "metadata": {},
      "source": [
        "### 1. Descriptive Statistics"
      ]
    },
    {
      "cell_type": "code",
      "execution_count": null,
      "metadata": {},
      "outputs": [
        {
          "data": {
            "text/plain": [
              "(                 id                     created_at          id.1  \\\n",
              " count  10671.000000                          10671  10671.000000   \n",
              " mean   44408.884172  2015-06-05 02:02:25.829799168  44408.884172   \n",
              " min      323.000000     2013-08-09 14:18:18.458000    323.000000   \n",
              " 25%    22320.000000  2014-06-30 15:29:22.765999872  22320.000000   \n",
              " 50%    39352.000000     2014-11-13 16:39:24.232000  39352.000000   \n",
              " 75%    71591.000000  2016-10-26 15:08:13.947000064  71591.000000   \n",
              " max    88573.000000     2018-03-21 05:26:40.076000  88573.000000   \n",
              " std    26639.068537                            NaN  26639.068537   \n",
              " \n",
              "            latitude     longitude          sexo  tipo_assalto_id  \\\n",
              " count  10671.000000  10671.000000  10671.000000     10671.000000   \n",
              " mean     -23.565597    -46.637649      0.610533         3.138881   \n",
              " min      -24.241930    -52.173376      0.000000         1.000000   \n",
              " 25%      -23.606950    -46.696652      0.000000         2.000000   \n",
              " 50%      -23.567089    -46.649003      1.000000         2.000000   \n",
              " 75%      -23.541550    -46.607934      1.000000         3.000000   \n",
              " max       -0.013911      0.004533      1.000000        11.000000   \n",
              " std        0.397421      0.473482      0.487652         2.732260   \n",
              " \n",
              "             user_id  valor_prejuizo                           time  \n",
              " count   1006.000000    10671.000000                          10671  \n",
              " mean   18039.644135     2821.503981  2015-03-03 00:47:05.082935040  \n",
              " min     1900.000000        0.000000            2010-03-19 19:00:00  \n",
              " 25%    14469.250000       50.000000            2014-01-26 22:00:00  \n",
              " 50%    18282.500000      780.000000            2014-09-26 12:00:00  \n",
              " 75%    21608.000000     2000.000000            2016-08-31 01:37:30  \n",
              " max    25802.000000  1000000.000000            2018-03-20 22:05:00  \n",
              " std     4507.289321    11850.840863                            NaN  ,\n",
              "            bairro                                          descricao  \\\n",
              " count       10671                                              10671   \n",
              " unique       1555                                              10671   \n",
              " top     São Paulo  5 bandidos, armas, entraram em casa e vasculha...   \n",
              " freq          601                                                  1   \n",
              " \n",
              "                    endereco ip_address_origin registrou_bo  \\\n",
              " count                 10671             10671        10671   \n",
              " unique                 9985              8721            2   \n",
              " top     Carregando endereço           unknown         True   \n",
              " freq                     15              1000         6326   \n",
              " \n",
              "                                     titulo  \\\n",
              " count                                10671   \n",
              " unique                                8591   \n",
              " top     Fui assaltado voltando do trabalho   \n",
              " freq                                   123   \n",
              " \n",
              "                                                       uri Bicicleta  \\\n",
              " count                                               10671       190   \n",
              " unique                                              10671         1   \n",
              " top     /denuncias/a71rZe-entraram-na-minha-casa-e-fic...      True   \n",
              " freq                                                    1       190   \n",
              " \n",
              "        Bolsa ou Mochila Carteira  ... Equipamento de Som Estepe MP4 ou Ipod  \\\n",
              " count              3036     3598  ...                217    271         473   \n",
              " unique                1        1  ...                  1      1           1   \n",
              " top                True     True  ...               True   True        True   \n",
              " freq               3036     3598  ...                217    271         473   \n",
              " \n",
              "        Móveis Notebook Outros Relógio   Som Tablet    Tv  \n",
              " count      37      652   4322    1130    89    382   142  \n",
              " unique      1        1      1       1     1      1     1  \n",
              " top      True     True   True    True  True   True  True  \n",
              " freq       37      652   4322    1130    89    382   142  \n",
              " \n",
              " [4 rows x 26 columns])"
            ]
          },
          "execution_count": 5,
          "metadata": {},
          "output_type": "execute_result"
        }
      ],
      "source": [
        "# Summary statistics for numerical columns\n",
        "numerical_summary = data_cleaned.describe()\n",
        "\n",
        "# Summary statistics for categorical columns\n",
        "categorical_summary = data_cleaned.describe(include='object')\n",
        "\n",
        "numerical_summary, categorical_summary"
      ]
    },
    {
      "cell_type": "markdown",
      "metadata": {},
      "source": [
        "### 2. Visualization"
      ]
    },
    {
      "cell_type": "markdown",
      "metadata": {},
      "source": [
        "#### 2.1 Temporal Analysis"
      ]
    },
    {
      "cell_type": "code",
      "execution_count": null,
      "metadata": {},
      "outputs": [
        {
          "data": {
            "image/png": "[encoded data removed]",
            "text/plain": [
              "<Figure size 1000x500 with 1 Axes>"
            ]
          },
          "metadata": {},
          "output_type": "display_data"
        }
      ],
      "source": [
        "import matplotlib.pyplot as plt\n",
        "\n",
        "# Plotting the number of incidents per year\n",
        "data_cleaned['year'] = data_cleaned['time'].dt.year\n",
        "incident_per_year = data_cleaned['year'].value_counts().sort_index()\n",
        "\n",
        "plt.figure(figsize=(10, 5))\n",
        "incident_per_year.plot(kind='bar')\n",
        "plt.title('Number of Incidents per Year')\n",
        "plt.xlabel('Year')\n",
        "plt.ylabel('Number of Incidents')\n",
        "plt.show()"
      ]
    },
    {
      "cell_type": "markdown",
      "metadata": {},
      "source": [
        "#### 2.2 Spatial Analysis"
      ]
    },
    {
      "cell_type": "code",
      "execution_count": null,
      "metadata": {},
      "outputs": [
        {
          "data": {
            "image/png": "[encoded data removed]",
            "text/plain": [
              "<Figure size 1000x500 with 1 Axes>"
            ]
          },
          "metadata": {},
          "output_type": "display_data"
        }
      ],
      "source": [
        "# Number of incidents per neighborhood\n",
        "incident_per_bairro = data_cleaned['bairro'].value_counts()\n",
        "\n",
        "plt.figure(figsize=(10, 5))\n",
        "incident_per_bairro.head(20).plot(kind='bar')\n",
        "plt.title('Top 20 Neighborhoods by Number of Incidents')\n",
        "plt.xlabel('Neighborhood')\n",
        "plt.ylabel('Number of Incidents')\n",
        "plt.show()"
      ]
    },
    {
      "cell_type": "markdown",
      "metadata": {},
      "source": [
        "## Predictive Modeling"
      ]
    },
    {
      "cell_type": "markdown",
      "metadata": {},
      "source": [
        "### 1. Objective\n",
        "Forecast the likelihood of being robbed and the value of items stolen in different neighborhoods."
      ]
    },
    {
      "cell_type": "markdown",
      "metadata": {},
      "source": [
        "### 2. Feature Engineering"
      ]
    },
    {
      "cell_type": "code",
      "execution_count": 8,
      "metadata": {},
      "outputs": [],
      "source": [
        "# Extracting features from timestamps\n",
        "data_cleaned['year'] = data_cleaned['time'].dt.year\n",
        "data_cleaned['month'] = data_cleaned['time'].dt.month\n",
        "data_cleaned['day'] = data_cleaned['time'].dt.day\n",
        "data_cleaned['hour'] = data_cleaned['time'].dt.hour\n",
        "\n",
        "# Encode categorical variables\n",
        "data_cleaned = pd.get_dummies(data_cleaned, columns=['bairro', 'titulo'], drop_first=True)\n",
        "\n",
        "# Prepare target variables\n",
        "data_cleaned['item_stolen'] = (data_cleaned[['Bicicleta', 'Bolsa ou Mochila', 'Carteira', 'Cartão de Crédito', \n",
        "                                             'Celular', 'Computador', 'DVD', 'Dinheiro', 'Documentos', \n",
        "                                             'Equipamento de Som', 'Estepe', 'MP4 ou Ipod', 'Móveis', \n",
        "                                             'Notebook', 'Outros', 'Relógio', 'Som', 'Tablet', 'Tv']].sum(axis=1) > 0).astype(int)\n",
        "data_cleaned['item_value'] = data_cleaned[['Bicicleta', 'Bolsa ou Mochila', 'Carteira', 'Cartão de Crédito', \n",
        "                                           'Celular', 'Computador', 'DVD', 'Dinheiro', 'Documentos', \n",
        "                                           'Equipamento de Som', 'Estepe', 'MP4 ou Ipod', 'Móveis', \n",
        "                                           'Notebook', 'Outros', 'Relógio', 'Som', 'Tablet', 'Tv']].sum(axis=1)\n",
        "\n",
        "# Save processed data for modeling\n",
        "data_cleaned.to_csv('data_processed.csv', index=False)"
      ]
    },
    {
      "cell_type": "markdown",
      "metadata": {},
      "source": [
        "### 3. Model Training and Evaluation"
      ]
    },
    {
      "cell_type": "markdown",
      "metadata": {},
      "source": [
        "#### 3.1 Predict Likelihood of Robbery"
      ]
    },
    {
      "cell_type": "code",
      "execution_count": null,
      "metadata": {},
      "outputs": [],
      "source": [
        "from sklearn.model_selection import train_test_split\n",
        "from sklearn.ensemble import RandomForestClassifier\n",
        "from sklearn.metrics import accuracy_score, classification_report\n",
        "\n",
        "# Load processed data\n",
        "data_processed = pd.read_csv('data_processed.csv')\n",
        "\n",
        "# Features and target for likelihood prediction\n",
        "X = data_processed.drop(columns=['item_stolen', 'item_value', 'endereco','created_at', 'ip_address_origin','time', 'descricao','registrou_bo'])\n",
        "y = data_processed['item_stolen']\n",
        "\n",
        "# Train-test split\n",
        "X_train, X_test, y_train, y_test = train_test_split(X, y, test_size=0.2, random_state=42)\n",
        "\n",
        "# Train Random Forest Classifier\n",
        "model = RandomForestClassifier(random_state=42)\n",
        "model.fit(X_train, y_train)\n",
        "\n",
        "# Predict and evaluate\n",
        "y_pred = model.predict(X_test)\n",
        "accuracy = accuracy_score(y_test, y_pred)\n",
        "report = classification_report(y_test, y_pred)\n",
        "\n",
        "print(f'Accuracy: {accuracy}')\n",
        "print(f'Classification Report:\\n{report}')"
      ]
    },
    {
      "cell_type": "markdown",
      "metadata": {},
      "source": [
        "#### 3.2 Predict Value of Items Stolen"
      ]
    },
    {
      "cell_type": "code",
      "execution_count": null,
      "metadata": {},
      "outputs": [],
      "source": [
        "from sklearn.ensemble import RandomForestRegressor\n",
        "from sklearn.metrics import mean_squared_error\n",
        "\n",
        "# Features and target for value prediction\n",
        "X = data_processed.drop(columns=['item_stolen', 'item_value', 'endereco','created_at', 'time', 'descricao', 'ip_address_origin','registrou_bo'])\n",
        "y = data_processed['item_value']\n",
        "\n",
        "# Train-test split\n",
        "X_train, X_test, y_train, y_test = train_test_split(X, y, test_size=0.2, random_state=42)\n",
        "\n",
        "# Train Random Forest Regressor\n",
        "model = RandomForestRegressor(random_state=42)\n",
        "model.fit(X_train, y_train)\n",
        "\n",
        "# Predict and evaluate\n",
        "y_pred = model.predict(X_test)\n",
        "mse = mean_squared_error(y_test, y_pred)\n",
        "\n",
        "print(f'Mean Squared Error: {mse}')"
      ]
    }
  ],
  "metadata": {
    "kernelspec": {
      "display_name": "Python 3.12.1 64-bit",
      "language": "python",
      "name": "python3"
    },
    "language_info": {
      "codemirror_mode": {
        "name": "ipython",
        "version": 3
      },
      "file_extension": ".py",
      "mimetype": "text/x-python",
      "name": "python",
      "nbconvert_exporter": "python",
      "pygments_lexer": "ipython3",
      "version": "3.12.1"
    },
    "vscode": {
      "interpreter": {
        "hash": "aee8b7b246df8f9039afb4144a1f6fd8d2ca17a180786b69acc140d282b71a49"
      }
    }
  },
  "nbformat": 4,
  "nbformat_minor": 4
}
